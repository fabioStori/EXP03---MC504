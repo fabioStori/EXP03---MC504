{
 "cells": [
  {
   "cell_type": "raw",
   "metadata": {},
   "source": [
    "comandos úteis:\n",
    "sudo mount -o loop,ro everest.root.ext3 /mnt2\n",
    "sudo dumpe2fs -h /dev/loop4\n"
   ]
  },
  {
   "cell_type": "code",
   "execution_count": 12,
   "metadata": {
    "ExecuteTime": {
     "end_time": "2019-11-06T00:30:15.730953Z",
     "start_time": "2019-11-06T00:30:15.725534Z"
    }
   },
   "outputs": [],
   "source": [
    "import ctypes"
   ]
  },
  {
   "cell_type": "code",
   "execution_count": 13,
   "metadata": {
    "ExecuteTime": {
     "end_time": "2019-11-06T00:30:18.179012Z",
     "start_time": "2019-11-06T00:30:18.176627Z"
    }
   },
   "outputs": [],
   "source": [
    "file_system = open(\"everest.root.ext3\", 'rb')"
   ]
  },
  {
   "cell_type": "code",
   "execution_count": 48,
   "metadata": {
    "ExecuteTime": {
     "end_time": "2019-11-06T01:04:09.684333Z",
     "start_time": "2019-11-06T01:04:09.674749Z"
    },
    "code_folding": [
     4,
     70,
     80
    ]
   },
   "outputs": [
    {
     "name": "stdout",
     "output_type": "stream",
     "text": [
      "        ('m_i_frag', ctypes.c_uint8),   # /* Fragment number */\n",
      "        ('m_i_fsize', ctypes.c_uint8),   # /* Fragment size */\n",
      "        ('m_pad1', ctypes.c_uint16),   \n",
      "        ('m_i_reserved2', ctypes.c_uint32 * 2),   \n"
     ]
    }
   ],
   "source": [
    "# Simple hack to convert struct header to ctypes, too lazy to parse line by line\n",
    "import re\n",
    "\n",
    "# Superblock\n",
    "var = \"\"\"\t__le32\ts_inodes_count;\t\t# /* Inodes count */\n",
    "\t__le32\ts_blocks_count;\t\t# /* Blocks count */\n",
    "\t__le32\ts_r_blocks_count;\t# /* Reserved blocks count */\n",
    "\t__le32\ts_free_blocks_count;\t# /* Free blocks count */S\n",
    "\t__le32\ts_free_inodes_count;\t# /* Free inodes count */\n",
    "\t__le32\ts_first_data_block;\t# /* First Data Block */\n",
    "\t__le32\ts_log_block_size;\t# /* Block size */\n",
    "\t__le32\ts_log_frag_size;\t# /* Fragment size */\n",
    "\t__le32\ts_blocks_per_group;\t# /* # Blocks per group */\n",
    "\t__le32\ts_frags_per_group;\t# /* # Fragments per group */\n",
    "\t__le32\ts_inodes_per_group;\t# /* # Inodes per group */\n",
    "\t__le32\ts_mtime;\t\t# /* Mount time */\n",
    "\t__le32\ts_wtime;\t\t# /* Write time */\n",
    "\t__le16\ts_mnt_count;\t\t# /* Mount count */\n",
    "\t__le16\ts_max_mnt_count;\t# /* Maximal mount count */\n",
    "\t__le16\ts_magic;\t\t# /* Magic signature */\n",
    "\t__le16\ts_state;\t\t# /* File system state */\n",
    "\t__le16\ts_errors;\t\t# /* Behaviour when detecting errors */\n",
    "\t__le16\ts_minor_rev_level;\t# /* minor revision level */\n",
    "\t__le32\ts_lastcheck;\t\t# /* time of last check */\n",
    "\t__le32\ts_checkinterval;\t# /* max. time between checks */\n",
    "\t__le32\ts_creator_os;\t\t# /* OS */\n",
    "\t__le32\ts_rev_level;\t\t# /* Revision level */\n",
    "\t__le16\ts_def_resuid;\t\t# /* Default uid for reserved blocks */\n",
    "\t__le16\ts_def_resgid;\t\t# /* Default gid for reserved blocks */\n",
    "\t__le32\ts_first_ino;\t\t# /* First non-reserved inode */\n",
    "\t__le16\ts_inode_size;\t\t# /* size of inode structure */\n",
    "\t__le16\ts_block_group_nr;\t# /* block group # of this superblock */\n",
    "\t__le32\ts_feature_compat;\t# /* compatible feature set */\n",
    "\t__le32\ts_feature_incompat;\t# /* incompatible feature set */\n",
    "\t__le32\ts_feature_ro_compat;\t# /* readonly-compatible feature set */\n",
    "\t__u8\ts_uuid[16];\t\t# /* 128-bit uuid for volume */\n",
    "\tchar\ts_volume_name[16];\t# /* volume name */\n",
    "\tchar\ts_last_mounted[64];\t# /* directory where last mounted */\n",
    "\t__le32\ts_algorithm_usage_bitmap;\t# /* For compression */\n",
    "\t__u8\ts_prealloc_blocks;\t# /* Nr of blocks to try to preallocate*/\n",
    "\t__u8\ts_prealloc_dir_blocks;\t# /* Nr to preallocate for dirs */\n",
    "\t__le16\ts_reserved_gdt_blocks;\t# /* Per group desc for online growth */\n",
    "\t__u8\ts_journal_uuid[16];\t# /* uuid of journal superblock */\n",
    "\t__le32\ts_journal_inum;\t\t# /* inode number of journal file */\n",
    "\t__le32\ts_journal_dev;\t\t# /* device number of journal file */\n",
    "\t__le32\ts_last_orphan;\t\t# /* start of list of inodes to delete */\n",
    "\t__le32\ts_hash_seed[4];\t\t# /* HTREE hash seed */\n",
    "\t__u8\ts_def_hash_version;\t# /* Default hash version to use */\n",
    "\t__u8\ts_reserved_char_pad;\n",
    "\t__u16\ts_reserved_word_pad;\n",
    "\t__le32\ts_default_mount_opts;\n",
    "\t__le32\ts_first_meta_bg;\t# /* First metablock block group */\n",
    "\t__le32\ts_mkfs_time;\t\t# /* When the filesystem was created */\n",
    "\t__le32\ts_jnl_blocks[17];\t# /* Backup of the journal inode */\n",
    "\t__le32\ts_blocks_count_hi;\t# /* Blocks count */\n",
    "\t__le32\ts_r_blocks_count_hi;\t# /* Reserved blocks count */\n",
    "\t__le32\ts_free_blocks_count_hi;\t# /* Free blocks count */\n",
    "\t__le16\ts_min_extra_isize;\t# /* All inodes have at least # bytes */\n",
    "\t__le16\ts_want_extra_isize; \t# /* New inodes should reserve # bytes */\n",
    "\t__le32\ts_flags;\t\t# /* Miscellaneous flags */\n",
    "\t__le16\ts_raid_stride;\t\t# /* RAID stride */\n",
    "\t__le16\ts_mmp_interval;\t# /* # seconds to wait in MMP checking */\n",
    "\t__le64\ts_mmp_block;\t# /* Block for multi-mount protection */\n",
    "\t__le32\ts_raid_stripe_width;\t# /* blocks on all data disks (N*stride)*/\n",
    "\t__u8\ts_log_groups_per_flex;\t# /* FLEX_BG group size */\n",
    "\t__u8\ts_reserved_char_pad2;\n",
    "\t__le16\ts_reserved_pad;\n",
    "\t__u32\ts_reserved[162];\t# /* Padding to the end of the block */\"\"\".split(\"\\n\")\n",
    "\n",
    "# Descriptor Table\n",
    "var = \"\"\"\t__le32\tbg_block_bitmap;\t# /* Blocks bitmap block */\n",
    "\t__le32\tbg_inode_bitmap;\t# /* Inodes bitmap block */\n",
    "\t__le32\tbg_inode_table;\t# /* Inodes table block */\n",
    "\t__le16\tbg_free_blocks_count;\t# /* Free blocks count */\n",
    "\t__le16\tbg_free_inodes_count;\t# /* Free inodes count */\n",
    "\t__le16\tbg_used_dirs_count;\t# /* Directories count */\n",
    "\t__u16\tbg_pad;\n",
    "\t__le32\tbg_reserved[3];\"\"\".split(\"\\n\")\n",
    "\n",
    "# Inode (atenção! aqui foram removidas as unions, essas serão adicionadas manualmente)\n",
    "var = \"\"\"\t__le16\ti_mode;\t\t# /* File mode */\n",
    "\t__le16\ti_uid;\t\t# /* Low 16 bits of Owner Uid */\n",
    "\t__le32\ti_size;\t\t# /* Size in bytes */\n",
    "\t__le32\ti_atime;\t# /* Access time */\n",
    "\t__le32\ti_ctime;\t# /* Creation time */\n",
    "\t__le32\ti_mtime;\t# /* Modification time */\n",
    "\t__le32\ti_dtime;\t# /* Deletion Time */\n",
    "\t__le16\ti_gid;\t# /* Low 16 bits of Group Id */\n",
    "\t__le16\ti_links_count;\t# /* Links count */\n",
    "\t__le32\ti_blocks;\t# /* Blocks count */\n",
    "\t__le32\ti_flags;\t# /* File flags */\n",
    "\t__le32\ti_block[EXT3_N_BLOCKS]; # /* Pointers to blocks */\n",
    "\t__le32\ti_generation;\t# /* File version (for NFS) */\n",
    "\t__le32\ti_file_acl;\t# /* File ACL */\n",
    "\t__le32\ti_dir_acl;\t# /* Directory ACL */\n",
    "\t__le32\ti_faddr;\t# /* Fragment address */\n",
    "\t__le16\ti_extra_isize;\n",
    "\t__le16\ti_pad1;\"\"\".split(\"\\n\")\n",
    "\n",
    "\n",
    "var = \"\"\"\t__u8\tm_i_frag;\t# /* Fragment number */\n",
    "\t__u8\tm_i_fsize;\t# /* Fragment size */\n",
    "\t__u16\tm_pad1;\n",
    "\t__u32\tm_i_reserved2[2];\"\"\".split(\"\\n\")\n",
    "\n",
    "t_conv = {\n",
    "    \"__le64\": \"ctypes.c_int64\",\n",
    "    \"__le32\": \"ctypes.c_int32\",\n",
    "    \"__le16\": \"ctypes.c_int16\",\n",
    "    \"__u8\": \"ctypes.c_uint8\",\n",
    "    \"__u16\": \"ctypes.c_uint16\",\n",
    "    \"__u32\": \"ctypes.c_uint32\",\n",
    "    \"char\": \"ctypes.c_char\"\n",
    "}\n",
    "for l in var:\n",
    "    v = l.split(\"\\t\")\n",
    "    _type, _var_name, comment = t_conv[v[1]], v[2][:-1], v[-1]\n",
    "    if \"# /*\" not in l:\n",
    "        comment = \"\"\n",
    "    \n",
    "    if re.match(\"\\w+\\[\\w+\\]\", _var_name):\n",
    "        _var_name, array_size = re.match(\"(\\w+)\\[(\\w+)\\]\", _var_name).groups()\n",
    "        _type = \"%s * %s\" % (_type, array_size)\n",
    "    print(\"        ('%s', %s),   %s\" % (_var_name, _type, comment))\n",
    "    "
   ]
  },
  {
   "cell_type": "code",
   "execution_count": 78,
   "metadata": {
    "ExecuteTime": {
     "end_time": "2019-11-06T01:36:44.771726Z",
     "start_time": "2019-11-06T01:36:44.749736Z"
    },
    "code_folding": [
     1,
     69,
     86,
     89,
     92,
     95,
     101,
     111,
     121,
     134
    ]
   },
   "outputs": [],
   "source": [
    "class Ext3Superblock(ctypes.Structure):\n",
    "    _fields_ = [\n",
    "        ('s_inodes_count', ctypes.c_int32),   # /* Inodes count */\n",
    "        ('s_blocks_count', ctypes.c_int32),   # /* Blocks count */\n",
    "        ('s_r_blocks_count', ctypes.c_int32),   # /* Reserved blocks count */\n",
    "        ('s_free_blocks_count', ctypes.c_int32),   # /* Free blocks count */S\n",
    "        ('s_free_inodes_count', ctypes.c_int32),   # /* Free inodes count */\n",
    "        ('s_first_data_block', ctypes.c_int32),   # /* First Data Block */\n",
    "        ('s_log_block_size', ctypes.c_int32),   # /* Block size */  <- block_size = 2 ^ (10 + s_log_block_size)\n",
    "        ('s_log_frag_size', ctypes.c_int32),   # /* Fragment size */ < - frag_size = 2 ^ (10 + s_log_frag_size)\n",
    "        ('s_blocks_per_group', ctypes.c_int32),   # /* # Blocks per group */\n",
    "        ('s_frags_per_group', ctypes.c_int32),   # /* # Fragments per group */\n",
    "        ('s_inodes_per_group', ctypes.c_int32),   # /* # Inodes per group */\n",
    "        ('s_mtime', ctypes.c_int32),   # /* Mount time */\n",
    "        ('s_wtime', ctypes.c_int32),   # /* Write time */\n",
    "        ('s_mnt_count', ctypes.c_int16),   # /* Mount count */\n",
    "        ('s_max_mnt_count', ctypes.c_int16),   # /* Maximal mount count */\n",
    "        ('s_magic', ctypes.c_int16),   # /* Magic signature */\n",
    "        ('s_state', ctypes.c_int16),   # /* File system state */\n",
    "        ('s_errors', ctypes.c_int16),   # /* Behaviour when detecting errors */\n",
    "        ('s_minor_rev_level', ctypes.c_int16),   # /* minor revision level */\n",
    "        ('s_lastcheck', ctypes.c_int32),   # /* time of last check */\n",
    "        ('s_checkinterval', ctypes.c_int32),   # /* max. time between checks */\n",
    "        ('s_creator_os', ctypes.c_int32),   # /* OS */\n",
    "        ('s_rev_level', ctypes.c_int32),   # /* Revision level */\n",
    "        ('s_def_resuid', ctypes.c_int16),   # /* Default uid for reserved blocks */\n",
    "        ('s_def_resgid', ctypes.c_int16),   # /* Default gid for reserved blocks */\n",
    "        ('s_first_ino', ctypes.c_int32),   # /* First non-reserved inode */\n",
    "        ('s_inode_size', ctypes.c_int16),   # /* size of inode structure */\n",
    "        ('s_block_group_nr', ctypes.c_int16),   # /* block group # of this superblock */\n",
    "        ('s_feature_compat', ctypes.c_int32),   # /* compatible feature set */\n",
    "        ('s_feature_incompat', ctypes.c_int32),   # /* incompatible feature set */\n",
    "        ('s_feature_ro_compat', ctypes.c_int32),   # /* readonly-compatible feature set */\n",
    "        ('s_uuid', ctypes.c_uint8 * 16),   # /* 128-bit uuid for volume */\n",
    "        ('s_volume_name', ctypes.c_char * 16),   # /* volume name */\n",
    "        ('s_last_mounted', ctypes.c_char * 64),   # /* directory where last mounted */\n",
    "        ('s_algorithm_usage_bitmap', ctypes.c_int32),   # /* For compression */\n",
    "        ('s_prealloc_blocks', ctypes.c_uint8),   # /* Nr of blocks to try to preallocate*/\n",
    "        ('s_prealloc_dir_blocks', ctypes.c_uint8),   # /* Nr to preallocate for dirs */\n",
    "        ('s_reserved_gdt_blocks', ctypes.c_int16),   # /* Per group desc for online growth */\n",
    "        ('s_journal_uuid', ctypes.c_uint8 * 16),   # /* uuid of journal superblock */\n",
    "        ('s_journal_inum', ctypes.c_int32),   # /* inode number of journal file */\n",
    "        ('s_journal_dev', ctypes.c_int32),   # /* device number of journal file */\n",
    "        ('s_last_orphan', ctypes.c_int32),   # /* start of list of inodes to delete */\n",
    "        ('s_hash_seed', ctypes.c_int32 * 4),   # /* HTREE hash seed */\n",
    "        ('s_def_hash_version', ctypes.c_uint8),   # /* Default hash version to use */\n",
    "        ('s_reserved_char_pad', ctypes.c_uint8),   \n",
    "        ('s_reserved_word_pad', ctypes.c_uint16),   \n",
    "        ('s_default_mount_opts', ctypes.c_int32),   \n",
    "        ('s_first_meta_bg', ctypes.c_int32),   # /* First metablock block group */\n",
    "        ('s_mkfs_time', ctypes.c_int32),   # /* When the filesystem was created */\n",
    "        ('s_jnl_blocks', ctypes.c_int32 * 17),   # /* Backup of the journal inode */\n",
    "        ('s_blocks_count_hi', ctypes.c_int32),   # /* Blocks count */\n",
    "        ('s_r_blocks_count_hi', ctypes.c_int32),   # /* Reserved blocks count */\n",
    "        ('s_free_blocks_count_hi', ctypes.c_int32),   # /* Free blocks count */\n",
    "        ('s_min_extra_isize', ctypes.c_int16),   # /* All inodes have at least # bytes */\n",
    "        ('s_want_extra_isize', ctypes.c_int16),   # /* New inodes should reserve # bytes */\n",
    "        ('s_flags', ctypes.c_int32),   # /* Miscellaneous flags */\n",
    "        ('s_raid_stride', ctypes.c_int16),   # /* RAID stride */\n",
    "        ('s_mmp_interval', ctypes.c_int16),   # /* # seconds to wait in MMP checking */\n",
    "        ('s_mmp_block', ctypes.c_int64),   # /* Block for multi-mount protection */\n",
    "        ('s_raid_stripe_width', ctypes.c_int32),   # /* blocks on all data disks (N*stride)*/\n",
    "        ('s_log_groups_per_flex', ctypes.c_uint8),   # /* FLEX_BG group size */\n",
    "        ('s_reserved_char_pad2', ctypes.c_uint8),   \n",
    "        ('s_reserved_pad', ctypes.c_int16),   \n",
    "        ('s_reserved', ctypes.c_uint32 * 162),   # /* Padding to the end of the block */\n",
    "    ]\n",
    "    \n",
    "class Ext3BlockGroupDescriptorTable(ctypes.Structure):\n",
    "    _fields_ = [\n",
    "        ('bg_block_bitmap', ctypes.c_int32),   # /* Blocks bitmap block */\n",
    "        ('bg_inode_bitmap', ctypes.c_int32),   # /* Inodes bitmap block */\n",
    "        ('bg_inode_table', ctypes.c_int32),   # /* Inodes table block */\n",
    "        ('bg_free_blocks_count', ctypes.c_int16),   # /* Free blocks count */\n",
    "        ('bg_free_inodes_count', ctypes.c_int16),   # /* Free inodes count */\n",
    "        ('bg_used_dirs_count', ctypes.c_int16),   # /* Directories count */\n",
    "        ('bg_pad', ctypes.c_uint16),   \n",
    "        ('bg_reserved', ctypes.c_int32 * 3),  \n",
    "    ]\n",
    "\n",
    "EXT3_NDIR_BLOCKS = 12\n",
    "EXT3_IND_BLOCK = EXT3_NDIR_BLOCKS\n",
    "EXT3_DIND_BLOCK = (EXT3_IND_BLOCK + 1)\n",
    "EXT3_TIND_BLOCK = (EXT3_DIND_BLOCK + 1)\n",
    "EXT3_N_BLOCKS = (EXT3_TIND_BLOCK + 1)\n",
    "\n",
    "class _linux1(ctypes.Structure):\n",
    "     _fields_ = [('l_i_reserved1', ctypes.c_uint32)] \n",
    "\n",
    "class _hurd1(ctypes.Structure):\n",
    "     _fields_ = [('h_i_translator', ctypes.c_uint32)] \n",
    "        \n",
    "class _masix1(ctypes.Structure):\n",
    "     _fields_ = [('m_i_reserved1', ctypes.c_uint32)]\n",
    "        \n",
    "class _osd1(ctypes.Union):\n",
    "     _fields_ = [(\"linux1\", _linux1),\n",
    "                 (\"hurd1\", _hurd1),\n",
    "                 (\"masix1\", _masix1)]\n",
    "\n",
    "        \n",
    "class _linux2(ctypes.Structure):\n",
    "     _fields_ = [\n",
    "        ('l_i_frag', ctypes.c_uint8),   # /* Fragment number */\n",
    "        ('l_i_fsize', ctypes.c_uint8),   # /* Fragment size */\n",
    "        ('i_pad1', ctypes.c_uint16),   \n",
    "        ('l_i_uid_high', ctypes.c_int16),   # /* these 2 fields    */\n",
    "        ('l_i_gid_high', ctypes.c_int16),   # /* were reserved2[0] */\n",
    "        ('l_i_reserved2', ctypes.c_uint32),   \n",
    "     ] \n",
    "\n",
    "class _hurd2(ctypes.Structure):\n",
    "     _fields_ = [        \n",
    "         ('h_i_frag', ctypes.c_uint8),   # /* Fragment number */\n",
    "         ('h_i_fsize', ctypes.c_uint8),   # /* Fragment size */\n",
    "         ('h_i_mode_high', ctypes.c_uint16),   \n",
    "         ('h_i_uid_high', ctypes.c_uint16),   \n",
    "         ('h_i_gid_high', ctypes.c_uint16),   \n",
    "         ('h_i_author', ctypes.c_uint32)\n",
    "     ]\n",
    "        \n",
    "class _masix2(ctypes.Structure):\n",
    "     _fields_ = [\n",
    "        ('m_i_frag', ctypes.c_uint8),   # /* Fragment number */\n",
    "        ('m_i_fsize', ctypes.c_uint8),   # /* Fragment size */\n",
    "        ('m_pad1', ctypes.c_uint16),   \n",
    "        ('m_i_reserved2', ctypes.c_uint32 * 2),   \n",
    "     ]\n",
    "        \n",
    "class _osd2(ctypes.Union):\n",
    "     _fields_ = [(\"linux2\", _linux1),\n",
    "                 (\"hurd2\", _hurd1),\n",
    "                 (\"masix2\", _masix1)]\n",
    "        \n",
    "class Ext3Inode(ctypes.Structure):\n",
    "    _fields_ = [\n",
    "        ('i_mode', ctypes.c_int16),   # /* File mode */\n",
    "        ('i_uid', ctypes.c_int16),   # /* Low 16 bits of Owner Uid */\n",
    "        ('i_size', ctypes.c_int32),   # /* Size in bytes */\n",
    "        ('i_atime', ctypes.c_int32),   # /* Access time */\n",
    "        ('i_ctime', ctypes.c_int32),   # /* Creation time */\n",
    "        ('i_mtime', ctypes.c_int32),   # /* Modification time */\n",
    "        ('i_dtime', ctypes.c_int32),   # /* Deletion Time */\n",
    "        ('i_gid', ctypes.c_int16),   # /* Low 16 bits of Group Id */\n",
    "        ('i_links_count', ctypes.c_int16),   # /* Links count */\n",
    "        ('i_blocks', ctypes.c_int32),   # /* Blocks count */\n",
    "        ('i_flags', ctypes.c_int32),   # /* File flags */\n",
    "        ('osd1', _osd1), # /* OS dependent 1 */ \n",
    "        ('i_block', ctypes.c_int32 * EXT3_N_BLOCKS), # /* Pointers to blocks */\n",
    "        ('i_generation', ctypes.c_int32),   # /* File version (for NFS) */\n",
    "        ('i_file_acl', ctypes.c_int32),   # /* File ACL */\n",
    "        ('i_dir_acl', ctypes.c_int32),   # /* Directory ACL */\n",
    "        ('i_faddr', ctypes.c_int32),   # /* Fragment address */\n",
    "        ('osd2', _osd2), # /* OS dependent 2 */ \n",
    "        ('i_extra_isize', ctypes.c_int16),   \n",
    "        ('i_pad1', ctypes.c_int16),   \n",
    "    ]"
   ]
  },
  {
   "cell_type": "code",
   "execution_count": 79,
   "metadata": {
    "ExecuteTime": {
     "end_time": "2019-11-06T01:36:56.675807Z",
     "start_time": "2019-11-06T01:36:56.671909Z"
    }
   },
   "outputs": [
    {
     "data": {
      "text/plain": [
       "1024"
      ]
     },
     "execution_count": 79,
     "metadata": {},
     "output_type": "execute_result"
    }
   ],
   "source": [
    "everest_superblock = Ext3Superblock()\n",
    "\n",
    "file_system.seek(1024)\n",
    "file_system.readinto(everest_superblock)"
   ]
  },
  {
   "cell_type": "code",
   "execution_count": 67,
   "metadata": {
    "ExecuteTime": {
     "end_time": "2019-11-06T01:17:24.164481Z",
     "start_time": "2019-11-06T01:17:24.159611Z"
    }
   },
   "outputs": [],
   "source": [
    "# execute isso para ler todas as variaveis de \"everest_superblock\" de uma vez... não é necessário, só se quiser mesmo\n",
    "{x: eval(\"everest_superblock.%s\" % x) for x in dir(everest_superblock) if not x.startswith(\"_\")}"
   ]
  },
  {
   "cell_type": "code",
   "execution_count": 85,
   "metadata": {
    "ExecuteTime": {
     "end_time": "2019-11-06T01:45:05.470999Z",
     "start_time": "2019-11-06T01:45:05.461105Z"
    }
   },
   "outputs": [
    {
     "data": {
      "text/plain": [
       "(4096, 32768)"
      ]
     },
     "execution_count": 85,
     "metadata": {},
     "output_type": "execute_result"
    }
   ],
   "source": [
    "BLOCK_SIZE = 2 ** (10 + everest_superblock.s_log_block_size) \n",
    "BLOCK_SIZE, everest_superblock.s_blocks_per_group"
   ]
  },
  {
   "cell_type": "code",
   "execution_count": 90,
   "metadata": {
    "ExecuteTime": {
     "end_time": "2019-11-06T01:50:55.496480Z",
     "start_time": "2019-11-06T01:50:55.486435Z"
    }
   },
   "outputs": [
    {
     "data": {
      "text/plain": [
       "511"
      ]
     },
     "execution_count": 90,
     "metadata": {},
     "output_type": "execute_result"
    }
   ],
   "source": [
    "INODE_BLOCKS_PER_GROUP = int((everest_superblock.s_inodes_per_group * everest_superblock.s_inode_size)/BLOCK_SIZE)"
   ]
  },
  {
   "cell_type": "code",
   "execution_count": 98,
   "metadata": {
    "ExecuteTime": {
     "end_time": "2019-11-06T02:11:29.180144Z",
     "start_time": "2019-11-06T02:11:29.177091Z"
    }
   },
   "outputs": [
    {
     "data": {
      "text/plain": [
       "19.08199691772461"
      ]
     },
     "execution_count": 98,
     "metadata": {},
     "output_type": "execute_result"
    }
   ],
   "source": [
    "(everest_superblock.s_blocks_count * BLOCK_SIZE)/(2**30)  # tamanho aproximado em GB, ainda tem alguns bytes a se considerar"
   ]
  },
  {
   "cell_type": "raw",
   "metadata": {},
   "source": [
    "Estrutura Ext3:\n",
    " mbr (512 bytes)\n",
    " additional boot data (512 bytes)\n",
    " \n",
    " block group 0-x (BLOCKS_PER_GROUP * BLOCK_SIZE)\n",
    "     block 1 - superblock (1k)                               \\ nota, esses dois só estão disponíveis nos dois primeiros grupos\n",
    "     block 2 - block group descriptor table (BLOCK_SIZE)     / depois disso o primeiro bloco do grupo é o block bitmap\n",
    "     block 3 - block bitmap (BLOCK_SIZE)\n",
    "     block 4 - inode bitmap (BLOCK_SIZE)\n",
    "     block 5-x - inode table (INODE_BLOCKS_PER_GROUP * BLOCK_SIZE)\n",
    "     block x-BLOCKS_PER_GROUP - data blocks \n",
    "   "
   ]
  },
  {
   "cell_type": "code",
   "execution_count": null,
   "metadata": {},
   "outputs": [],
   "source": []
  }
 ],
 "metadata": {
  "kernelspec": {
   "display_name": "Python 3",
   "language": "python",
   "name": "python3"
  },
  "language_info": {
   "codemirror_mode": {
    "name": "ipython",
    "version": 3
   },
   "file_extension": ".py",
   "mimetype": "text/x-python",
   "name": "python",
   "nbconvert_exporter": "python",
   "pygments_lexer": "ipython3",
   "version": "3.6.7"
  },
  "toc": {
   "base_numbering": 1,
   "nav_menu": {},
   "number_sections": true,
   "sideBar": true,
   "skip_h1_title": false,
   "title_cell": "Table of Contents",
   "title_sidebar": "Contents",
   "toc_cell": false,
   "toc_position": {},
   "toc_section_display": true,
   "toc_window_display": false
  }
 },
 "nbformat": 4,
 "nbformat_minor": 2
}
