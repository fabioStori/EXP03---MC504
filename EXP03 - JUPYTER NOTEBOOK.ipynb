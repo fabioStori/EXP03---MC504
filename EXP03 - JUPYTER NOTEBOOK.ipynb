{
 "cells": [
  {
   "cell_type": "raw",
   "metadata": {},
   "source": [
    "comandos úteis:\n",
    "\n",
    "montar disco\n",
    "sudo mount -o loop,ro everest.root.ext3 /mnt2\n",
    "\n",
    "dump informações do superbloco\n",
    "sudo dumpe2fs -h /dev/loop4   \n",
    "\n",
    "\n",
    "dump informações do block group descriptor table\n",
    "sudo dumpe2fs -h /dev/loop4  -g "
   ]
  },
  {
   "cell_type": "code",
   "execution_count": 1,
   "metadata": {
    "ExecuteTime": {
     "end_time": "2019-11-09T15:42:10.434804Z",
     "start_time": "2019-11-09T15:42:10.429326Z"
    }
   },
   "outputs": [],
   "source": [
    "import ctypes"
   ]
  },
  {
   "cell_type": "code",
   "execution_count": 2,
   "metadata": {
    "ExecuteTime": {
     "end_time": "2019-11-09T15:42:11.870251Z",
     "start_time": "2019-11-09T15:42:11.863959Z"
    }
   },
   "outputs": [],
   "source": [
    "file_system = open(\"everest.root.ext3\", 'rb')"
   ]
  },
  {
   "cell_type": "code",
   "execution_count": 3,
   "metadata": {
    "ExecuteTime": {
     "end_time": "2019-11-09T15:42:12.553266Z",
     "start_time": "2019-11-09T15:42:12.522276Z"
    },
    "code_folding": [
     4,
     70,
     80
    ]
   },
   "outputs": [
    {
     "name": "stdout",
     "output_type": "stream",
     "text": [
      "        ('m_i_frag', ctypes.c_uint8),   # /* Fragment number */\n",
      "        ('m_i_fsize', ctypes.c_uint8),   # /* Fragment size */\n",
      "        ('m_pad1', ctypes.c_uint16),   \n",
      "        ('m_i_reserved2', ctypes.c_uint32 * 2),   \n"
     ]
    }
   ],
   "source": [
    "# Simple hack to convert struct header to ctypes, too lazy to parse line by line\n",
    "import re\n",
    "\n",
    "# Superblock\n",
    "var = \"\"\"\t__le32\ts_inodes_count;\t\t# /* Inodes count */\n",
    "\t__le32\ts_blocks_count;\t\t# /* Blocks count */\n",
    "\t__le32\ts_r_blocks_count;\t# /* Reserved blocks count */\n",
    "\t__le32\ts_free_blocks_count;\t# /* Free blocks count */S\n",
    "\t__le32\ts_free_inodes_count;\t# /* Free inodes count */\n",
    "\t__le32\ts_first_data_block;\t# /* First Data Block */\n",
    "\t__le32\ts_log_block_size;\t# /* Block size */\n",
    "\t__le32\ts_log_frag_size;\t# /* Fragment size */\n",
    "\t__le32\ts_blocks_per_group;\t# /* # Blocks per group */\n",
    "\t__le32\ts_frags_per_group;\t# /* # Fragments per group */\n",
    "\t__le32\ts_inodes_per_group;\t# /* # Inodes per group */\n",
    "\t__le32\ts_mtime;\t\t# /* Mount time */\n",
    "\t__le32\ts_wtime;\t\t# /* Write time */\n",
    "\t__le16\ts_mnt_count;\t\t# /* Mount count */\n",
    "\t__le16\ts_max_mnt_count;\t# /* Maximal mount count */\n",
    "\t__le16\ts_magic;\t\t# /* Magic signature */\n",
    "\t__le16\ts_state;\t\t# /* File system state */\n",
    "\t__le16\ts_errors;\t\t# /* Behaviour when detecting errors */\n",
    "\t__le16\ts_minor_rev_level;\t# /* minor revision level */\n",
    "\t__le32\ts_lastcheck;\t\t# /* time of last check */\n",
    "\t__le32\ts_checkinterval;\t# /* max. time between checks */\n",
    "\t__le32\ts_creator_os;\t\t# /* OS */\n",
    "\t__le32\ts_rev_level;\t\t# /* Revision level */\n",
    "\t__le16\ts_def_resuid;\t\t# /* Default uid for reserved blocks */\n",
    "\t__le16\ts_def_resgid;\t\t# /* Default gid for reserved blocks */\n",
    "\t__le32\ts_first_ino;\t\t# /* First non-reserved inode */\n",
    "\t__le16\ts_inode_size;\t\t# /* size of inode structure */\n",
    "\t__le16\ts_block_group_nr;\t# /* block group # of this superblock */\n",
    "\t__le32\ts_feature_compat;\t# /* compatible feature set */\n",
    "\t__le32\ts_feature_incompat;\t# /* incompatible feature set */\n",
    "\t__le32\ts_feature_ro_compat;\t# /* readonly-compatible feature set */\n",
    "\t__u8\ts_uuid[16];\t\t# /* 128-bit uuid for volume */\n",
    "\tchar\ts_volume_name[16];\t# /* volume name */\n",
    "\tchar\ts_last_mounted[64];\t# /* directory where last mounted */\n",
    "\t__le32\ts_algorithm_usage_bitmap;\t# /* For compression */\n",
    "\t__u8\ts_prealloc_blocks;\t# /* Nr of blocks to try to preallocate*/\n",
    "\t__u8\ts_prealloc_dir_blocks;\t# /* Nr to preallocate for dirs */\n",
    "\t__le16\ts_reserved_gdt_blocks;\t# /* Per group desc for online growth */\n",
    "\t__u8\ts_journal_uuid[16];\t# /* uuid of journal superblock */\n",
    "\t__le32\ts_journal_inum;\t\t# /* inode number of journal file */\n",
    "\t__le32\ts_journal_dev;\t\t# /* device number of journal file */\n",
    "\t__le32\ts_last_orphan;\t\t# /* start of list of inodes to delete */\n",
    "\t__le32\ts_hash_seed[4];\t\t# /* HTREE hash seed */\n",
    "\t__u8\ts_def_hash_version;\t# /* Default hash version to use */\n",
    "\t__u8\ts_reserved_char_pad;\n",
    "\t__u16\ts_reserved_word_pad;\n",
    "\t__le32\ts_default_mount_opts;\n",
    "\t__le32\ts_first_meta_bg;\t# /* First metablock block group */\n",
    "\t__le32\ts_mkfs_time;\t\t# /* When the filesystem was created */\n",
    "\t__le32\ts_jnl_blocks[17];\t# /* Backup of the journal inode */\n",
    "\t__le32\ts_blocks_count_hi;\t# /* Blocks count */\n",
    "\t__le32\ts_r_blocks_count_hi;\t# /* Reserved blocks count */\n",
    "\t__le32\ts_free_blocks_count_hi;\t# /* Free blocks count */\n",
    "\t__le16\ts_min_extra_isize;\t# /* All inodes have at least # bytes */\n",
    "\t__le16\ts_want_extra_isize; \t# /* New inodes should reserve # bytes */\n",
    "\t__le32\ts_flags;\t\t# /* Miscellaneous flags */\n",
    "\t__le16\ts_raid_stride;\t\t# /* RAID stride */\n",
    "\t__le16\ts_mmp_interval;\t# /* # seconds to wait in MMP checking */\n",
    "\t__le64\ts_mmp_block;\t# /* Block for multi-mount protection */\n",
    "\t__le32\ts_raid_stripe_width;\t# /* blocks on all data disks (N*stride)*/\n",
    "\t__u8\ts_log_groups_per_flex;\t# /* FLEX_BG group size */\n",
    "\t__u8\ts_reserved_char_pad2;\n",
    "\t__le16\ts_reserved_pad;\n",
    "\t__u32\ts_reserved[162];\t# /* Padding to the end of the block */\"\"\".split(\"\\n\")\n",
    "\n",
    "# Descriptor Table\n",
    "var = \"\"\"\t__le32\tbg_block_bitmap;\t# /* Blocks bitmap block */\n",
    "\t__le32\tbg_inode_bitmap;\t# /* Inodes bitmap block */\n",
    "\t__le32\tbg_inode_table;\t# /* Inodes table block */\n",
    "\t__le16\tbg_free_blocks_count;\t# /* Free blocks count */\n",
    "\t__le16\tbg_free_inodes_count;\t# /* Free inodes count */\n",
    "\t__le16\tbg_used_dirs_count;\t# /* Directories count */\n",
    "\t__u16\tbg_pad;\n",
    "\t__le32\tbg_reserved[3];\"\"\".split(\"\\n\")\n",
    "\n",
    "# Inode (atenção! aqui foram removidas as unions, essas serão adicionadas manualmente)\n",
    "var = \"\"\"\t__le16\ti_mode;\t\t# /* File mode */\n",
    "\t__le16\ti_uid;\t\t# /* Low 16 bits of Owner Uid */\n",
    "\t__le32\ti_size;\t\t# /* Size in bytes */\n",
    "\t__le32\ti_atime;\t# /* Access time */\n",
    "\t__le32\ti_ctime;\t# /* Creation time */\n",
    "\t__le32\ti_mtime;\t# /* Modification time */\n",
    "\t__le32\ti_dtime;\t# /* Deletion Time */\n",
    "\t__le16\ti_gid;\t# /* Low 16 bits of Group Id */\n",
    "\t__le16\ti_links_count;\t# /* Links count */\n",
    "\t__le32\ti_blocks;\t# /* Blocks count */\n",
    "\t__le32\ti_flags;\t# /* File flags */\n",
    "\t__le32\ti_block[EXT3_N_BLOCKS]; # /* Pointers to blocks */\n",
    "\t__le32\ti_generation;\t# /* File version (for NFS) */\n",
    "\t__le32\ti_file_acl;\t# /* File ACL */\n",
    "\t__le32\ti_dir_acl;\t# /* Directory ACL */\n",
    "\t__le32\ti_faddr;\t# /* Fragment address */\n",
    "\t__le16\ti_extra_isize;\n",
    "\t__le16\ti_pad1;\"\"\".split(\"\\n\")\n",
    "\n",
    "\n",
    "var = \"\"\"\t__u8\tm_i_frag;\t# /* Fragment number */\n",
    "\t__u8\tm_i_fsize;\t# /* Fragment size */\n",
    "\t__u16\tm_pad1;\n",
    "\t__u32\tm_i_reserved2[2];\"\"\".split(\"\\n\")\n",
    "\n",
    "t_conv = {\n",
    "    \"__le64\": \"ctypes.c_int64\",\n",
    "    \"__le32\": \"ctypes.c_int32\",\n",
    "    \"__le16\": \"ctypes.c_int16\",\n",
    "    \"__u8\": \"ctypes.c_uint8\",\n",
    "    \"__u16\": \"ctypes.c_uint16\",\n",
    "    \"__u32\": \"ctypes.c_uint32\",\n",
    "    \"char\": \"ctypes.c_char\"\n",
    "}\n",
    "for l in var:\n",
    "    v = l.split(\"\\t\")\n",
    "    _type, _var_name, comment = t_conv[v[1]], v[2][:-1], v[-1]\n",
    "    if \"# /*\" not in l:\n",
    "        comment = \"\"\n",
    "    \n",
    "    if re.match(\"\\w+\\[\\w+\\]\", _var_name):\n",
    "        _var_name, array_size = re.match(\"(\\w+)\\[(\\w+)\\]\", _var_name).groups()\n",
    "        _type = \"%s * %s\" % (_type, array_size)\n",
    "    print(\"        ('%s', %s),   %s\" % (_var_name, _type, comment))\n",
    "    "
   ]
  },
  {
   "cell_type": "code",
   "execution_count": 17,
   "metadata": {
    "ExecuteTime": {
     "end_time": "2019-11-09T15:46:21.390450Z",
     "start_time": "2019-11-09T15:46:21.344746Z"
    },
    "code_folding": []
   },
   "outputs": [],
   "source": [
    "class Ext3Superblock(ctypes.Structure):\n",
    "    _fields_ = [\n",
    "        ('s_inodes_count', ctypes.c_int32),   # /* Inodes count */\n",
    "        ('s_blocks_count', ctypes.c_int32),   # /* Blocks count */\n",
    "        ('s_r_blocks_count', ctypes.c_int32),   # /* Reserved blocks count */\n",
    "        ('s_free_blocks_count', ctypes.c_int32),   # /* Free blocks count */S\n",
    "        ('s_free_inodes_count', ctypes.c_int32),   # /* Free inodes count */\n",
    "        ('s_first_data_block', ctypes.c_int32),   # /* First Data Block */\n",
    "        ('s_log_block_size', ctypes.c_int32),   # /* Block size */  <- block_size = 2 ^ (10 + s_log_block_size)\n",
    "        ('s_log_frag_size', ctypes.c_int32),   # /* Fragment size */ < - frag_size = 2 ^ (10 + s_log_frag_size)\n",
    "        ('s_blocks_per_group', ctypes.c_int32),   # /* # Blocks per group */\n",
    "        ('s_frags_per_group', ctypes.c_int32),   # /* # Fragments per group */\n",
    "        ('s_inodes_per_group', ctypes.c_int32),   # /* # Inodes per group */\n",
    "        ('s_mtime', ctypes.c_int32),   # /* Mount time */\n",
    "        ('s_wtime', ctypes.c_int32),   # /* Write time */\n",
    "        ('s_mnt_count', ctypes.c_int16),   # /* Mount count */\n",
    "        ('s_max_mnt_count', ctypes.c_int16),   # /* Maximal mount count */\n",
    "        ('s_magic', ctypes.c_int16),   # /* Magic signature */\n",
    "        ('s_state', ctypes.c_int16),   # /* File system state */\n",
    "        ('s_errors', ctypes.c_int16),   # /* Behaviour when detecting errors */\n",
    "        ('s_minor_rev_level', ctypes.c_int16),   # /* minor revision level */\n",
    "        ('s_lastcheck', ctypes.c_int32),   # /* time of last check */\n",
    "        ('s_checkinterval', ctypes.c_int32),   # /* max. time between checks */\n",
    "        ('s_creator_os', ctypes.c_int32),   # /* OS */\n",
    "        ('s_rev_level', ctypes.c_int32),   # /* Revision level */\n",
    "        ('s_def_resuid', ctypes.c_int16),   # /* Default uid for reserved blocks */\n",
    "        ('s_def_resgid', ctypes.c_int16),   # /* Default gid for reserved blocks */\n",
    "        ('s_first_ino', ctypes.c_int32),   # /* First non-reserved inode */\n",
    "        ('s_inode_size', ctypes.c_int16),   # /* size of inode structure */\n",
    "        ('s_block_group_nr', ctypes.c_int16),   # /* block group # of this superblock */\n",
    "        ('s_feature_compat', ctypes.c_int32),   # /* compatible feature set */\n",
    "        ('s_feature_incompat', ctypes.c_int32),   # /* incompatible feature set */\n",
    "        ('s_feature_ro_compat', ctypes.c_int32),   # /* readonly-compatible feature set */\n",
    "        ('s_uuid', ctypes.c_uint8 * 16),   # /* 128-bit uuid for volume */\n",
    "        ('s_volume_name', ctypes.c_char * 16),   # /* volume name */\n",
    "        ('s_last_mounted', ctypes.c_char * 64),   # /* directory where last mounted */\n",
    "        ('s_algorithm_usage_bitmap', ctypes.c_int32),   # /* For compression */\n",
    "        ('s_prealloc_blocks', ctypes.c_uint8),   # /* Nr of blocks to try to preallocate*/\n",
    "        ('s_prealloc_dir_blocks', ctypes.c_uint8),   # /* Nr to preallocate for dirs */\n",
    "        ('s_reserved_gdt_blocks', ctypes.c_int16),   # /* Per group desc for online growth */\n",
    "        ('s_journal_uuid', ctypes.c_uint8 * 16),   # /* uuid of journal superblock */\n",
    "        ('s_journal_inum', ctypes.c_int32),   # /* inode number of journal file */\n",
    "        ('s_journal_dev', ctypes.c_int32),   # /* device number of journal file */\n",
    "        ('s_last_orphan', ctypes.c_int32),   # /* start of list of inodes to delete */\n",
    "        ('s_hash_seed', ctypes.c_int32 * 4),   # /* HTREE hash seed */\n",
    "        ('s_def_hash_version', ctypes.c_uint8),   # /* Default hash version to use */\n",
    "        ('s_reserved_char_pad', ctypes.c_uint8),   \n",
    "        ('s_reserved_word_pad', ctypes.c_uint16),   \n",
    "        ('s_default_mount_opts', ctypes.c_int32),   \n",
    "        ('s_first_meta_bg', ctypes.c_int32),   # /* First metablock block group */\n",
    "        ('s_mkfs_time', ctypes.c_int32),   # /* When the filesystem was created */\n",
    "        ('s_jnl_blocks', ctypes.c_int32 * 17),   # /* Backup of the journal inode */\n",
    "        ('s_blocks_count_hi', ctypes.c_int32),   # /* Blocks count */\n",
    "        ('s_r_blocks_count_hi', ctypes.c_int32),   # /* Reserved blocks count */\n",
    "        ('s_free_blocks_count_hi', ctypes.c_int32),   # /* Free blocks count */\n",
    "        ('s_min_extra_isize', ctypes.c_int16),   # /* All inodes have at least # bytes */\n",
    "        ('s_want_extra_isize', ctypes.c_int16),   # /* New inodes should reserve # bytes */\n",
    "        ('s_flags', ctypes.c_int32),   # /* Miscellaneous flags */\n",
    "        ('s_raid_stride', ctypes.c_int16),   # /* RAID stride */\n",
    "        ('s_mmp_interval', ctypes.c_int16),   # /* # seconds to wait in MMP checking */\n",
    "        ('s_mmp_block', ctypes.c_int64),   # /* Block for multi-mount protection */\n",
    "        ('s_raid_stripe_width', ctypes.c_int32),   # /* blocks on all data disks (N*stride)*/\n",
    "        ('s_log_groups_per_flex', ctypes.c_uint8),   # /* FLEX_BG group size */\n",
    "        ('s_reserved_char_pad2', ctypes.c_uint8),   \n",
    "        ('s_reserved_pad', ctypes.c_int16),   \n",
    "        ('s_reserved', ctypes.c_uint32 * 162),   # /* Padding to the end of the block */\n",
    "    ]\n",
    "    \n",
    "class Ext3BlockGroupDescriptor(ctypes.Structure):\n",
    "    _fields_ = [\n",
    "        ('bg_block_bitmap', ctypes.c_int32),   # /* Blocks bitmap block */\n",
    "        ('bg_inode_bitmap', ctypes.c_int32),   # /* Inodes bitmap block */\n",
    "        ('bg_inode_table', ctypes.c_int32),   # /* Inodes table block */\n",
    "        ('bg_free_blocks_count', ctypes.c_int16),   # /* Free blocks count */\n",
    "        ('bg_free_inodes_count', ctypes.c_int16),   # /* Free inodes count */\n",
    "        ('bg_used_dirs_count', ctypes.c_int16),   # /* Directories count */\n",
    "        ('bg_pad', ctypes.c_uint16),   \n",
    "        ('bg_reserved', ctypes.c_int32 * 3),  \n",
    "    ]\n",
    "\n",
    "EXT3_NDIR_BLOCKS = 12\n",
    "EXT3_IND_BLOCK = EXT3_NDIR_BLOCKS\n",
    "EXT3_DIND_BLOCK = (EXT3_IND_BLOCK + 1)\n",
    "EXT3_TIND_BLOCK = (EXT3_DIND_BLOCK + 1)\n",
    "EXT3_N_BLOCKS = (EXT3_TIND_BLOCK + 1)\n",
    "\n",
    "class _linux1(ctypes.Structure):\n",
    "     _fields_ = [('l_i_reserved1', ctypes.c_uint32)] \n",
    "\n",
    "class _hurd1(ctypes.Structure):\n",
    "     _fields_ = [('h_i_translator', ctypes.c_uint32)] \n",
    "        \n",
    "class _masix1(ctypes.Structure):\n",
    "     _fields_ = [('m_i_reserved1', ctypes.c_uint32)]\n",
    "        \n",
    "class _osd1(ctypes.Union):\n",
    "     _fields_ = [(\"linux1\", _linux1),\n",
    "                 (\"hurd1\", _hurd1),\n",
    "                 (\"masix1\", _masix1)]\n",
    "\n",
    "        \n",
    "class _linux2(ctypes.Structure):\n",
    "     _fields_ = [\n",
    "        ('l_i_frag', ctypes.c_uint8),   # /* Fragment number */\n",
    "        ('l_i_fsize', ctypes.c_uint8),   # /* Fragment size */\n",
    "        ('i_pad1', ctypes.c_uint16),   \n",
    "        ('l_i_uid_high', ctypes.c_int16),   # /* these 2 fields    */\n",
    "        ('l_i_gid_high', ctypes.c_int16),   # /* were reserved2[0] */\n",
    "        ('l_i_reserved2', ctypes.c_uint32),   \n",
    "     ] \n",
    "\n",
    "class _hurd2(ctypes.Structure):\n",
    "     _fields_ = [        \n",
    "         ('h_i_frag', ctypes.c_uint8),   # /* Fragment number */\n",
    "         ('h_i_fsize', ctypes.c_uint8),   # /* Fragment size */\n",
    "         ('h_i_mode_high', ctypes.c_uint16),   \n",
    "         ('h_i_uid_high', ctypes.c_uint16),   \n",
    "         ('h_i_gid_high', ctypes.c_uint16),   \n",
    "         ('h_i_author', ctypes.c_uint32)\n",
    "     ]\n",
    "        \n",
    "class _masix2(ctypes.Structure):\n",
    "     _fields_ = [\n",
    "        ('m_i_frag', ctypes.c_uint8),   # /* Fragment number */\n",
    "        ('m_i_fsize', ctypes.c_uint8),   # /* Fragment size */\n",
    "        ('m_pad1', ctypes.c_uint16),   \n",
    "        ('m_i_reserved2', ctypes.c_uint32 * 2),   \n",
    "     ]\n",
    "        \n",
    "class _osd2(ctypes.Union):\n",
    "     _fields_ = [(\"linux2\", _linux1),\n",
    "                 (\"hurd2\", _hurd1),\n",
    "                 (\"masix2\", _masix1)]\n",
    "        \n",
    "class Ext3Inode(ctypes.Structure):\n",
    "    _fields_ = [\n",
    "        #('i_mode', ctypes.c_int16),   # /* File mode */\n",
    "        ('i_mode', ctypes.c_uint16),\n",
    "        ('i_uid', ctypes.c_int16),   # /* Low 16 bits of Owner Uid */\n",
    "        ('i_size', ctypes.c_int32),   # /* Size in bytes */\n",
    "        ('i_atime', ctypes.c_int32),   # /* Access time */\n",
    "        ('i_ctime', ctypes.c_int32),   # /* Creation time */\n",
    "        ('i_mtime', ctypes.c_int32),   # /* Modification time */\n",
    "        ('i_dtime', ctypes.c_int32),   # /* Deletion Time */\n",
    "        ('i_gid', ctypes.c_int16),   # /* Low 16 bits of Group Id */\n",
    "        ('i_links_count', ctypes.c_int16),   # /* Links count */\n",
    "        ('i_blocks', ctypes.c_int32),   # /* Blocks count */ blocks of 512 bytes! \n",
    "        ('i_flags', ctypes.c_int32),   # /* File flags */\n",
    "        ('osd1', _osd1), # /* OS dependent 1 */ \n",
    "        ('i_block', ctypes.c_int32 * EXT3_N_BLOCKS), # /* Pointers to blocks */\n",
    "        ('i_generation', ctypes.c_int32),   # /* File version (for NFS) */\n",
    "        ('i_file_acl', ctypes.c_int32),   # /* File ACL */\n",
    "        ('i_dir_acl', ctypes.c_int32),   # /* Directory ACL */\n",
    "        ('i_faddr', ctypes.c_int32),   # /* Fragment address */\n",
    "        ('osd2', _osd2), # /* OS dependent 2 */ \n",
    "        ('i_extra_isize', ctypes.c_int16),   \n",
    "        ('i_pad1', ctypes.c_int16),   \n",
    "    ]"
   ]
  },
  {
   "cell_type": "code",
   "execution_count": 5,
   "metadata": {
    "ExecuteTime": {
     "end_time": "2019-11-09T15:42:15.343022Z",
     "start_time": "2019-11-09T15:42:15.310923Z"
    }
   },
   "outputs": [
    {
     "data": {
      "text/plain": [
       "1024"
      ]
     },
     "execution_count": 5,
     "metadata": {},
     "output_type": "execute_result"
    }
   ],
   "source": [
    "everest_superblock = Ext3Superblock()\n",
    "\n",
    "file_system.seek(1024)\n",
    "file_system.readinto(everest_superblock)"
   ]
  },
  {
   "cell_type": "code",
   "execution_count": null,
   "metadata": {
    "ExecuteTime": {
     "end_time": "2019-11-09T15:42:16.102384Z",
     "start_time": "2019-11-09T15:42:16.087353Z"
    }
   },
   "outputs": [],
   "source": [
    "# execute isso para ler todas as variaveis de \"everest_superblock\" de uma vez... não é necessário, só se quiser mesmo\n",
    "{x: eval(\"everest_superblock.%s\" % x) for x in dir(everest_superblock) if not x.startswith(\"_\")}"
   ]
  },
  {
   "cell_type": "code",
   "execution_count": 7,
   "metadata": {
    "ExecuteTime": {
     "end_time": "2019-11-09T15:42:17.124054Z",
     "start_time": "2019-11-09T15:42:17.114150Z"
    }
   },
   "outputs": [
    {
     "data": {
      "text/plain": [
       "(4096, 32768)"
      ]
     },
     "execution_count": 7,
     "metadata": {},
     "output_type": "execute_result"
    }
   ],
   "source": [
    "BLOCK_SIZE = 2 ** (10 + everest_superblock.s_log_block_size) \n",
    "BLOCK_SIZE, everest_superblock.s_blocks_per_group"
   ]
  },
  {
   "cell_type": "code",
   "execution_count": 40,
   "metadata": {
    "ExecuteTime": {
     "end_time": "2019-11-09T17:21:54.461851Z",
     "start_time": "2019-11-09T17:21:54.459253Z"
    }
   },
   "outputs": [],
   "source": [
    "POINTERS_ON_INODE_INDIRECT = int(BLOCK_SIZE/4)\n",
    "class Ext3InodeIndirect(ctypes.Structure):\n",
    "    _fields_ = [('i_block', ctypes.c_int32 * POINTERS_ON_INODE_INDIRECT)]"
   ]
  },
  {
   "cell_type": "code",
   "execution_count": 8,
   "metadata": {
    "ExecuteTime": {
     "end_time": "2019-11-09T15:42:18.552849Z",
     "start_time": "2019-11-09T15:42:18.543626Z"
    }
   },
   "outputs": [],
   "source": [
    "INODE_BLOCKS_PER_GROUP = int((everest_superblock.s_inodes_per_group * everest_superblock.s_inode_size)/BLOCK_SIZE)"
   ]
  },
  {
   "cell_type": "code",
   "execution_count": 9,
   "metadata": {
    "ExecuteTime": {
     "end_time": "2019-11-09T15:42:19.209296Z",
     "start_time": "2019-11-09T15:42:19.198367Z"
    }
   },
   "outputs": [
    {
     "data": {
      "text/plain": [
       "19.08199691772461"
      ]
     },
     "execution_count": 9,
     "metadata": {},
     "output_type": "execute_result"
    }
   ],
   "source": [
    "(everest_superblock.s_blocks_count * BLOCK_SIZE)/(2**30)  # tamanho aproximado em GB, ainda tem alguns bytes a se considerar"
   ]
  },
  {
   "cell_type": "raw",
   "metadata": {},
   "source": [
    "Estrutura Ext3:\n",
    " mbr (512 bytes)\n",
    " additional boot data (512 bytes)\n",
    " \n",
    " block group 0-x (BLOCKS_PER_GROUP * BLOCK_SIZE)\n",
    "     block 1 - superblock (1k)                                     \\ nota, esses dois só estão disponíveis nos dois primeiros grupos\n",
    "             - espaço vazio até completar o tamanho de um bloco     |\n",
    "     block 2 - block group descriptor table (BLOCK_SIZE)           / depois disso o primeiro bloco do grupo é o block bitmap\n",
    "     block 3 - block bitmap (BLOCK_SIZE)\n",
    "     block 4 - inode bitmap (BLOCK_SIZE)\n",
    "     block 5-x - inode table (INODE_BLOCKS_PER_GROUP * BLOCK_SIZE)\n",
    "     block x-BLOCKS_PER_GROUP - data blocks \n",
    "   "
   ]
  },
  {
   "cell_type": "code",
   "execution_count": 10,
   "metadata": {
    "ExecuteTime": {
     "end_time": "2019-11-09T15:42:20.781209Z",
     "start_time": "2019-11-09T15:42:20.766322Z"
    }
   },
   "outputs": [
    {
     "data": {
      "text/plain": [
       "153"
      ]
     },
     "execution_count": 10,
     "metadata": {},
     "output_type": "execute_result"
    }
   ],
   "source": [
    "from math import ceil\n",
    "NUMBER_OF_GROUPS = ceil(everest_superblock.s_blocks_count / everest_superblock.s_blocks_per_group)\n",
    "\n",
    "\n",
    "class Ext3BlockGroupDescriptorTable(ctypes.Structure):\n",
    "    _fields_ = [(\"block_group_descriptor\", Ext3BlockGroupDescriptor * (NUMBER_OF_GROUPS))]\n",
    "\n",
    "NUMBER_OF_GROUPS"
   ]
  },
  {
   "cell_type": "code",
   "execution_count": 11,
   "metadata": {
    "ExecuteTime": {
     "end_time": "2019-11-09T15:42:21.471762Z",
     "start_time": "2019-11-09T15:42:21.462769Z"
    }
   },
   "outputs": [
    {
     "data": {
      "text/plain": [
       "21495"
      ]
     },
     "execution_count": 11,
     "metadata": {},
     "output_type": "execute_result"
    }
   ],
   "source": [
    "BLOCKS_IN_LAST_GROUP = everest_superblock.s_blocks_count % everest_superblock.s_blocks_per_group\n",
    "BLOCKS_IN_LAST_GROUP"
   ]
  },
  {
   "cell_type": "code",
   "execution_count": 12,
   "metadata": {
    "ExecuteTime": {
     "end_time": "2019-11-09T15:42:22.247936Z",
     "start_time": "2019-11-09T15:42:22.232784Z"
    }
   },
   "outputs": [
    {
     "name": "stdout",
     "output_type": "stream",
     "text": [
      "0000001000111100\n"
     ]
    }
   ],
   "source": [
    "# simple function using shifts to get the n bit from the x uint\n",
    "get_bit = lambda x,n: (x & (1<<n)) >> n\n",
    "\n",
    "# to read the block and the inode bitmap we need to read the bits in the following order: \n",
    "# read every byte from left to right, but the bits from right to left\n",
    "# eg: \n",
    "# hex:         0x403C\n",
    "# binary:      01000000 00111100\n",
    "# read_order:  00000010 00111100\n",
    "\n",
    "# that's the same as reading the value as a little endian int and follow each byte\n",
    "print(\"\".join(map(str,[get_bit(int.from_bytes(b'\\x40\\x3c', 'little'),i) for i in range(16)])))\n",
    "\n",
    "    # The first block of this block group is represented by bit 0 of byte 0, the second by bit 1 of byte 0. \n",
    "    # The 8th block is represented by bit 7 (most significant bit) of byte 0 while the 9th block is represented by bit 0 \n",
    "    #(least significant bit) of byte 1."
   ]
  },
  {
   "cell_type": "code",
   "execution_count": 97,
   "metadata": {
    "ExecuteTime": {
     "end_time": "2019-11-09T19:22:45.021488Z",
     "start_time": "2019-11-09T19:22:22.107796Z"
    },
    "scrolled": true
   },
   "outputs": [
    {
     "data": {
      "text/plain": [
       "(66485, 696557, 456760, 2058181)"
      ]
     },
     "execution_count": 97,
     "metadata": {},
     "output_type": "execute_result"
    }
   ],
   "source": [
    "# lendo block group descriptor table\n",
    "file_system.seek(BLOCK_SIZE)\n",
    "everest_descriptor_table = Ext3BlockGroupDescriptorTable()\n",
    "file_system.readinto(everest_descriptor_table)\n",
    "\n",
    "total_used_blocks = 0\n",
    "total_free_blocks = 0\n",
    "total_used_inodes = 0\n",
    "total_free_inodes = 0\n",
    "\n",
    "block_free_segments_number = 0\n",
    "block_segments_control = False # this variable will assist us into computing the number of free segments\n",
    "\n",
    "inode_segments_count = 0\n",
    "\n",
    "file_sizes = [] # here we will concatenate all sizes so we can build the table at the end\n",
    "inode_segs = []\n",
    "\n",
    "for group in range(NUMBER_OF_GROUPS):\n",
    "    # localização do inode bitmap e inode table para cada grupo\n",
    "#     print(everest_descriptor_table.block_group_descriptor[group].bg_inode_bitmap, \n",
    "#            everest_descriptor_table.block_group_descriptor[group].bg_inode_table)\n",
    "    block_bitmap_location = everest_descriptor_table.block_group_descriptor[group].bg_block_bitmap * BLOCK_SIZE\n",
    "    inode_bitmap_location = everest_descriptor_table.block_group_descriptor[group].bg_inode_bitmap * BLOCK_SIZE\n",
    "    inode_table_location = everest_descriptor_table.block_group_descriptor[group].bg_inode_table * BLOCK_SIZE\n",
    "    \n",
    "    # inode_table_location += everest_superblock.s_first_ino * everest_superblock.s_inode_size\n",
    "        \n",
    "    # blocks\n",
    "    file_system.seek(block_bitmap_location)\n",
    "    entry = file_system.read(ceil(everest_superblock.s_blocks_per_group/8))\n",
    "    entry_uint = int.from_bytes(entry, 'little') \n",
    "    \n",
    "    n_blocks = everest_superblock.s_blocks_per_group if group != NUMBER_OF_GROUPS-1 else BLOCKS_IN_LAST_GROUP\n",
    "    for i in range(n_blocks):\n",
    "        if block_segments_control:\n",
    "            if get_bit(entry_uint, i): # end of a segment\n",
    "                block_segments_control = False\n",
    "        else:\n",
    "            if not get_bit(entry_uint, i): # start of a segment\n",
    "                block_segments_control = True\n",
    "                block_free_segments_number += 1\n",
    "        \n",
    "    if group != NUMBER_OF_GROUPS-1:\n",
    "        total_used_blocks += sum([1 for i in range(everest_superblock.s_blocks_per_group) if get_bit(entry_uint, i)])\n",
    "        total_free_blocks += sum([1 for i in range(everest_superblock.s_blocks_per_group) if not get_bit(entry_uint, i)])\n",
    "    else:\n",
    "        total_used_blocks += sum([1 for i in range(BLOCKS_IN_LAST_GROUP) if get_bit(entry_uint, i)])\n",
    "        total_free_blocks += sum([1 for i in range(BLOCKS_IN_LAST_GROUP) if not get_bit(entry_uint, i)])\n",
    "        \n",
    "    # inodes\n",
    "    file_system.seek(inode_bitmap_location)\n",
    "    entry = file_system.read(ceil(everest_superblock.s_inodes_count/8))\n",
    "    entry_uint = int.from_bytes(entry, 'little') \n",
    "        \n",
    "    total_used_inodes += sum([1 for i in range(everest_superblock.s_inodes_per_group) if get_bit(entry_uint, i)])\n",
    "    total_free_inodes += sum([1 for i in range(everest_superblock.s_inodes_per_group) if not get_bit(entry_uint, i)])\n",
    "    \n",
    "    #file_system.seek(inode_table_location)\n",
    "    for i in range(everest_superblock.s_inodes_per_group):\n",
    "        if i < everest_superblock.s_first_ino:\n",
    "            continue\n",
    "        if get_bit(entry_uint, i): # inode is occupied\n",
    "            file_system.seek(inode_table_location + i*everest_superblock.s_inode_size)\n",
    "            inode = Ext3Inode()\n",
    "            file_system.readinto(inode)\n",
    "            \n",
    "            # here read the inode content into an i-block\n",
    "            n_blocks = inode.i_blocks\n",
    "#             file_system.seek(inode_table_location + i*everest_superblock.s_inode_size)\n",
    "#             print(file_system.read(128))\n",
    "            n_used_blocks = int((inode.i_blocks * 512)/BLOCK_SIZE)\n",
    "    \n",
    "            used_blocks = [inode.i_block[j] for j in range(15) if inode.i_block[j]]\n",
    "            \n",
    "            \n",
    "            if n_used_blocks > 12:\n",
    "                #process indirect on 13th block\n",
    "                indirect = Ext3InodeIndirect()\n",
    "                file_system.seek(inode.i_block[12] * BLOCK_SIZE)\n",
    "                file_system.readinto(indirect)\n",
    "                # add [indirect.i_block[j] for j in range(POINTERS_ON_INODE_INDIRECT)]\n",
    "                used_blocks += [indirect.i_block[j] for j in range(POINTERS_ON_INODE_INDIRECT) if indirect.i_block[j]]\n",
    "                \n",
    "            if n_used_blocks > 12 + POINTERS_ON_INODE_INDIRECT:\n",
    "                #process double indirect on 14th block\n",
    "                indirect = Ext3InodeIndirect()\n",
    "                file_system.seek(inode.i_block[13] * BLOCK_SIZE)\n",
    "                file_system.readinto(indirect)\n",
    "                # add [indirect.i_block[j] for j in range(POINTERS_ON_INODE_INDIRECT)]\n",
    "                used_blocks += [indirect.i_block[j] for j in range(POINTERS_ON_INODE_INDIRECT) if indirect.i_block[j]]\n",
    "                for j in range(POINTERS_ON_INODE_INDIRECT):\n",
    "                    if not indirect.i_block[j]:\n",
    "                        continue\n",
    "                    double_indirect = Ext3InodeIndirect()\n",
    "                    file_system.seek(indirect.i_block[j] * BLOCK_SIZE)\n",
    "                    file_system.readinto(double_indirect)\n",
    "                    # add [double_indirect.i_block[k] for k in range(POINTERS_ON_INODE_INDIRECT)]\n",
    "                    used_blocks += [double_indirect.i_block[k] for k in range(POINTERS_ON_INODE_INDIRECT) if double_indirect.i_block[k]]\n",
    "                \n",
    "            if n_used_blocks > 12 +POINTERS_ON_INODE_INDIRECT + POINTERS_ON_INODE_INDIRECT**2:\n",
    "                #process triple indirect on 15th block\n",
    "                indirect = Ext3InodeIndirect()\n",
    "                file_system.seek(inode.i_block[14] * BLOCK_SIZE)\n",
    "                file_system.readinto(indirect)\n",
    "                # add [indirect.i_block[j] for j in range(POINTERS_ON_INODE_INDIRECT)]\n",
    "                used_blocks += [indirect.i_block[j] for j in range(POINTERS_ON_INODE_INDIRECT) if indirect.i_block[j]]\n",
    "                for j in range(POINTERS_ON_INODE_INDIRECT):\n",
    "                    if not indirect.i_block[j]:\n",
    "                        continue\n",
    "                    double_indirect = Ext3InodeIndirect()\n",
    "                    file_system.seek(indirect.i_block[j] * BLOCK_SIZE)\n",
    "                    file_system.readinto(double_indirect)\n",
    "                    # add [double_indirect.i_block[k] for k in range(POINTERS_ON_INODE_INDIRECT)]\n",
    "                    used_blocks += [double_indirect.i_block[k] for k in range(POINTERS_ON_INODE_INDIRECT) if double_indirect.i_block[k]]\n",
    "                    for k in range(POINTERS_ON_INODE_INDIRECT):\n",
    "                        if not double_indirect.i_block[k]:\n",
    "                            continue\n",
    "                        triple_indirect = Ext3InodeIndirect()\n",
    "                        file_system.seek(double_indirect.i_block[k] * BLOCK_SIZE)\n",
    "                        file_system.readinto(triple_indirect)\n",
    "                        # add [triple_indirect.i_block[l] for l in range(POINTERS_ON_INODE_INDIRECT)]\n",
    "                        used_blocks += [triple_indirect.i_block[l] for l in range(POINTERS_ON_INODE_INDIRECT) if triple_indirect.i_block[l]]\n",
    "            \n",
    "            # now we just need to count the sequences on the used blocks\n",
    "            n_segs = 0\n",
    "            if n_used_blocks:\n",
    "                n_segs = 1\n",
    "                for _prev,_next in zip(used_blocks[:-1], used_blocks[1:]):\n",
    "                    if _prev+1 != _next:\n",
    "                        n_segs += 1\n",
    "                    \n",
    "                inode_segments_count += n_segs\n",
    "            inode_segs.append(n_segs)\n",
    "            if inode.i_mode & 0x8000: # regular file\n",
    "                file_sizes.append(inode.i_size)\n",
    "            \n",
    "            #print(get_bit(entry_uint, i), hex(inode.i_mode),n_used_blocks,used_blocks, n_frags)\n",
    "            #break # esse break aqui é para ser removido depois, é só para gerar apenas um arquivo por grupo, limitado a saida\n",
    "            \n",
    "            # com o inode lido é necessário percorrer o i-block para pegar o endereço dos blocos para verificar se eles são continuos\n",
    "            # NOTA: o resultado disso aqui deve ser parecido com o do comando filefrag\n",
    "            # filefrag -v nome do arquivo \n",
    "            # esse comando da a quantidade de fragmentaçoes e, com o parametro -v, mostra onde cada bloco do inode está\n",
    "\n",
    "block_free_segments_number, inode_segments_count, total_used_inodes, total_free_blocks"
   ]
  },
  {
   "cell_type": "code",
   "execution_count": 82,
   "metadata": {
    "ExecuteTime": {
     "end_time": "2019-11-09T18:54:44.499015Z",
     "start_time": "2019-11-09T18:54:44.482848Z"
    }
   },
   "outputs": [
    {
     "name": "stdout",
     "output_type": "stream",
     "text": [
      "seg_contiguos_livres: 66485\n",
      "frag_livres: 123.83 KB/seg\n",
      "frag_ocupados: 16.91 KB/seg\n",
      "tx_frag_i_nodes: 1.52\n"
     ]
    }
   ],
   "source": [
    "print(\"seg_contiguos_livres: %d\" % block_free_segments_number)\n",
    "\n",
    "frag_livres = (total_free_blocks * BLOCK_SIZE) / block_free_segments_number\n",
    "print(\"frag_livres: %.2f KB/seg\" % (frag_livres/1024)) # em KB/seg\n",
    "\n",
    "frag_ocupados = (total_used_blocks * BLOCK_SIZE) / inode_segments_count\n",
    "print(\"frag_ocupados: %.2f KB/seg\" % (frag_ocupados/1024)) # em KB/seg\n",
    "\n",
    "tx_frag_i_nodes = (inode_segments_count/total_used_inodes)\n",
    "print(\"tx_frag_i_nodes: %.2f\" % tx_frag_i_nodes)\n"
   ]
  },
  {
   "cell_type": "code",
   "execution_count": 114,
   "metadata": {
    "ExecuteTime": {
     "end_time": "2019-11-09T19:28:40.021261Z",
     "start_time": "2019-11-09T19:28:39.618241Z"
    }
   },
   "outputs": [
    {
     "name": "stdout",
     "output_type": "stream",
     "text": [
      "   size    everest\n",
      "      1    0.7825%\n",
      "      2    0.8279%\n",
      "      4    1.3077%\n",
      "      8    1.9667%\n",
      "     16    3.1307%\n",
      "     32    5.5208%\n",
      "     64    7.1937%\n",
      "    128    9.1684%\n",
      "    256   14.4559%\n",
      "    512   24.4734%\n",
      "   1 KB   41.2887%\n",
      "   2 KB   57.3616%\n",
      "   4 KB   70.4719%\n",
      "   8 KB   80.3898%\n",
      "  16 KB   88.3196%\n",
      "  32 KB   94.1329%\n",
      "  64 KB   97.3252%\n",
      " 128 KB   98.7043%\n",
      " 256 KB   99.3436%\n",
      " 512 KB   99.6139%\n",
      "   1 MB   99.7604%\n",
      "   2 MB   99.8542%\n",
      "   4 MB   99.9584%\n",
      "   8 MB   99.9721%\n",
      "  16 MB   99.9864%\n",
      "  32 MB   99.9898%\n",
      "  64 MB   99.9981%\n",
      " 128 MB   99.9988%\n",
      " 256 MB   99.9995%\n",
      " 512 MB  100.0000%\n"
     ]
    }
   ],
   "source": [
    "import pandas as pd\n",
    "\n",
    "\n",
    "def format_human(n_bytes):\n",
    "    if n_bytes < 1024:\n",
    "        return str(n_bytes)\n",
    "    elif n_bytes < 1024 ** 2:\n",
    "        return \"%d KB\" % (n_bytes >> 10)\n",
    "    elif n_bytes < 1024 ** 3:\n",
    "        return \"%d MB\" % (n_bytes >> 20)\n",
    "    else:\n",
    "        return \"%d GB\" % (n_bytes >> 30) \n",
    "def percent_under(f_size):\n",
    "    return len([x for x in file_sizes if x<f_size])/len(file_sizes)\n",
    "data = [(format_human(2**i), \"%.4f%%\" % (percent_under(2**i) * 100)) for i in range(0, 30)]\n",
    "df = pd.DataFrame(data, columns = [\"size\", \"everest\"])\n",
    "print(df.to_string(index=False))"
   ]
  },
  {
   "cell_type": "code",
   "execution_count": 116,
   "metadata": {
    "ExecuteTime": {
     "end_time": "2019-11-09T19:31:51.898536Z",
     "start_time": "2019-11-09T19:31:51.888946Z"
    }
   },
   "outputs": [
    {
     "data": {
      "text/plain": [
       "32768"
      ]
     },
     "execution_count": 116,
     "metadata": {},
     "output_type": "execute_result"
    }
   ],
   "source": [
    "everest_superblock.s_blocks_per_group"
   ]
  }
 ],
 "metadata": {
  "kernelspec": {
   "display_name": "Python 3",
   "language": "python",
   "name": "python3"
  },
  "language_info": {
   "codemirror_mode": {
    "name": "ipython",
    "version": 3
   },
   "file_extension": ".py",
   "mimetype": "text/x-python",
   "name": "python",
   "nbconvert_exporter": "python",
   "pygments_lexer": "ipython3",
   "version": "3.6.7"
  },
  "toc": {
   "base_numbering": 1,
   "nav_menu": {},
   "number_sections": true,
   "sideBar": true,
   "skip_h1_title": false,
   "title_cell": "Table of Contents",
   "title_sidebar": "Contents",
   "toc_cell": false,
   "toc_position": {},
   "toc_section_display": true,
   "toc_window_display": false
  }
 },
 "nbformat": 4,
 "nbformat_minor": 2
}
